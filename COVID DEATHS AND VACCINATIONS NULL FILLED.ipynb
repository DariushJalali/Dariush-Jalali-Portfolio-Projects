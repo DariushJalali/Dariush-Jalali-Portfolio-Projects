{
 "cells": [
  {
   "cell_type": "markdown",
   "id": "17cf6687",
   "metadata": {},
   "source": [
    "# COVID DEATHS NULL VALUES/PANDAS DF"
   ]
  },
  {
   "cell_type": "code",
   "execution_count": null,
   "id": "b5e50f2e",
   "metadata": {},
   "outputs": [],
   "source": [
    "import pandas as pd\n",
    "\n",
    "def replace_empty_with_null(csv_file_path):\n",
    "    # Read the CSV file into a DataFrame\n",
    "    df = pd.read_csv(csv_file_path, na_values=[''])\n",
    "\n",
    "    # Replace empty values with NaN (null values)\n",
    "    df.fillna(pd.NA, inplace=True)\n",
    "\n",
    "    # Replace NaN with 'Null' in the DataFrame\n",
    "    df.replace(pd.NA, 'Null', inplace=True)\n",
    "\n",
    "    # Save the modified DataFrame back to a CSV file\n",
    "    df.to_csv('/Users/dariushjalali/Downloads/CovidDeaths.csv', index=False)\n",
    "    print(\"Output CSV file saved.\")\n",
    "\n",
    "# Replace 'your_input.csv' with the path to your CSV file\n",
    "replace_empty_with_null('CovidDeaths1.csv')"
   ]
  },
  {
   "cell_type": "markdown",
   "id": "cd202418",
   "metadata": {},
   "source": [
    "# COVID VACCINATIONS NULL VALUES/PANDAS DF"
   ]
  },
  {
   "cell_type": "code",
   "execution_count": 2,
   "id": "de4494ba",
   "metadata": {},
   "outputs": [
    {
     "name": "stdout",
     "output_type": "stream",
     "text": [
      "Output CSV file saved.\n"
     ]
    }
   ],
   "source": [
    "import pandas as pd\n",
    "\n",
    "def replace_empty_with_null(csv_file_path):\n",
    "    # Read the CSV file into a DataFrame\n",
    "    df = pd.read_csv(csv_file_path, na_values=[''])\n",
    "\n",
    "    # Replace empty values with NaN (null values)\n",
    "    df.fillna(pd.NA, inplace=True)\n",
    "\n",
    "    # Replace NaN with 'Null' in the DataFrame\n",
    "    df.replace(pd.NA, 'Null', inplace=True)\n",
    "\n",
    "    # Save the modified DataFrame back to a CSV file\n",
    "    df.to_csv('/Users/dariushjalali/Downloads/CovidVaccinations.csv', index=False)\n",
    "    print(\"Output CSV file saved.\")\n",
    "\n",
    "# Replace 'your_input.csv' with the path to your CSV file\n",
    "replace_empty_with_null('CovidVaccinations1.csv')"
   ]
  },
  {
   "cell_type": "code",
   "execution_count": null,
   "id": "32e013b0",
   "metadata": {},
   "outputs": [],
   "source": []
  }
 ],
 "metadata": {
  "kernelspec": {
   "display_name": "Python 3 (ipykernel)",
   "language": "python",
   "name": "python3"
  },
  "language_info": {
   "codemirror_mode": {
    "name": "ipython",
    "version": 3
   },
   "file_extension": ".py",
   "mimetype": "text/x-python",
   "name": "python",
   "nbconvert_exporter": "python",
   "pygments_lexer": "ipython3",
   "version": "3.9.13"
  }
 },
 "nbformat": 4,
 "nbformat_minor": 5
}
